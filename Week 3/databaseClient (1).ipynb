{
 "cells": [
  {
   "attachments": {},
   "cell_type": "markdown",
   "id": "36aa1e9a",
   "metadata": {},
   "source": [
    "# Database Client by Freda Victor\n",
    "\n",
    "## Exercise: Set up the client project\n",
    "\n",
    "### Step 1\n",
    "Setting environtment. In this assignment it was not recommended create a virtual environment, \n",
    "\n",
    "```bash\n",
    "python --version\n",
    "python -m pip intall jupyter\n",
    "jupyter notebook\n",
    "!pip install mysql-connector-python\n",
    "```"
   ]
  },
  {
   "attachments": {},
   "cell_type": "markdown",
   "id": "614d44f2",
   "metadata": {},
   "source": [
    " \n",
    "To give a better format of outputs I will use `tabulate` module. \n",
    "\n",
    "```bash\n",
    "!pip install tabulate\n",
    "```"
   ]
  },
  {
   "cell_type": "code",
   "execution_count": 95,
   "id": "e3727909",
   "metadata": {},
   "outputs": [],
   "source": [
    "from tabulate import tabulate"
   ]
  },
  {
   "attachments": {},
   "cell_type": "markdown",
   "id": "02fa44ed",
   "metadata": {},
   "source": [
    "### Step 2\n",
    "\n",
    "Import mysql connector python module to create a connection with the database"
   ]
  },
  {
   "cell_type": "code",
   "execution_count": 96,
   "id": "8dfc765f",
   "metadata": {},
   "outputs": [],
   "source": [
    "import mysql.connector as connector"
   ]
  },
  {
   "attachments": {},
   "cell_type": "markdown",
   "id": "632f06db",
   "metadata": {},
   "source": [
    "### Step 3\n",
    "\n",
    "Then create a connection object with the databse"
   ]
  },
  {
   "cell_type": "code",
   "execution_count": 97,
   "id": "7806c0e9",
   "metadata": {},
   "outputs": [],
   "source": [
    "conn = connector.connect(\n",
    "    user='meta',\n",
    "    password='meta-database2023$',\n",
    "    database='littlelemondm'\n",
    ")"
   ]
  },
  {
   "attachments": {},
   "cell_type": "markdown",
   "id": "b4cdafa3",
   "metadata": {},
   "source": [
    "## Exercise: Add query functions\n",
    "\n",
    "### Task One\n",
    "\n",
    "Taks one already done in previous steps. Connection object with the database was created.\n",
    "\n",
    "### Task two\n",
    "\n",
    "In this second task, you now need to query the database to show all tables within the database. "
   ]
  },
  {
   "cell_type": "code",
   "execution_count": 101,
   "id": "c8f65513",
   "metadata": {},
   "outputs": [
    {
     "name": "stdout",
     "output_type": "stream",
     "text": [
      "bookings\n",
      "courses\n",
      "customerdetails\n",
      "customers\n",
      "menuitems\n",
      "menus\n",
      "menusmenusitems\n",
      "orderdeliverystatus\n",
      "orders\n",
      "ordersview\n",
      "roles\n",
      "staff\n"
     ]
    }
   ],
   "source": [
    "show_tables_query = \"\"\"SHOW TABLES\"\"\"\n",
    "cursor = conn.cursor()\n",
    "cursor.execute(show_tables_query)\n",
    "results = cursor.fetchall()\n",
    "for table in results:\n",
    "    print(*table)"
   ]
  },
  {
   "attachments": {},
   "cell_type": "markdown",
   "id": "4cdd2cca",
   "metadata": {},
   "source": [
    "## Task 3: Query with table JOIN\n",
    "\n",
    "In this task it is required using JOIN clause to ask queries to the database:\n",
    "\n",
    "### Step one\n",
    "\n",
    "The tables used are:\n",
    "- Customers table\n",
    "- CustomersDetails table\n",
    "- Orders table\n",
    "\n",
    "### Step two\n",
    "\n",
    "Lastly, the queries will then be:"
   ]
  },
  {
   "cell_type": "code",
   "execution_count": 99,
   "id": "b6dd111a",
   "metadata": {},
   "outputs": [],
   "source": [
    "query = \"\"\"\n",
    "SELECT c.CustomerName, co.Email, co.PhoneNumber, co.Address, co.Country, co.City, o.TotalCost\n",
    "FROM Customers as c\n",
    "INNER JOIN CustomerDetails as co ON c.CustomerID = co.CustomerID\n",
    "INNER JOIN Orders as o ON c.CustomerID = o.CustomerID\n",
    "WHERE o.TotalCost > 60\"\"\""
   ]
  },
  {
   "attachments": {},
   "cell_type": "markdown",
   "id": "c0ff7f0f",
   "metadata": {},
   "source": [
    "### Step three\n",
    "\n",
    "Execute previous query"
   ]
  },
  {
   "cell_type": "code",
   "execution_count": 100,
   "id": "8ec5649c",
   "metadata": {},
   "outputs": [
    {
     "name": "stdout",
     "output_type": "stream",
     "text": [
      "---------------  ------------------  ----------  ------------------  ------  ---------  ---\n",
      "Veronica Lodge   veronica@email.com  4896789911  Antartica stree 98  Alska   USA        120\n",
      "Betty Cooper     betty@email.com     3456789900  Stret #2 233        Tokio   Japan       88\n",
      "Cheryl Blossomm  cheryl@email.com    1209789722  Blue sky            Sidney  Australia   90\n",
      "---------------  ------------------  ----------  ------------------  ------  ---------  ---\n"
     ]
    }
   ],
   "source": [
    "cursor.execute(query)\n",
    "details = cursor.fetchall()\n",
    "print(tabulate(details))"
   ]
  }
 ],
 "metadata": {
  "kernelspec": {
   "display_name": "Python 3 (ipykernel)",
   "language": "python",
   "name": "python3"
  },
  "language_info": {
   "codemirror_mode": {
    "name": "ipython",
    "version": 3
   },
   "file_extension": ".py",
   "mimetype": "text/x-python",
   "name": "python",
   "nbconvert_exporter": "python",
   "pygments_lexer": "ipython3",
   "version": "3.11.0"
  }
 },
 "nbformat": 4,
 "nbformat_minor": 5
}
